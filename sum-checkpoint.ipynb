{
 "cells": [
  {
   "cell_type": "code",
   "execution_count": 2,
   "id": "23971e66-93ee-4305-afc2-ed73bfe8c5a9",
   "metadata": {
    "tags": []
   },
   "outputs": [
    {
     "name": "stdout",
     "output_type": "stream",
     "text": [
      "sum= 6\n"
     ]
    }
   ],
   "source": [
    "a=2\n",
    "b=4\n",
    "s=a+b\n",
    "print (\"sum=\",s)"
   ]
  },
  {
   "cell_type": "code",
   "execution_count": null,
   "id": "c3906f8b-852a-427a-92b3-fed9564a7a44",
   "metadata": {},
   "outputs": [],
   "source": []
  }
 ],
 "metadata": {
  "kernelspec": {
   "display_name": "Python 3 (ipykernel)",
   "language": "python",
   "name": "python3"
  },
  "language_info": {
   "codemirror_mode": {
    "name": "ipython",
    "version": 3
   },
   "file_extension": ".py",
   "mimetype": "text/x-python",
   "name": "python",
   "nbconvert_exporter": "python",
   "pygments_lexer": "ipython3",
   "version": "3.11.5"
  }
 },
 "nbformat": 4,
 "nbformat_minor": 5
}
