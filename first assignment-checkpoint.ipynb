{
 "cells": [
  {
   "cell_type": "code",
   "execution_count": 1,
   "id": "6e16a940-b833-4166-8876-68a0728df81a",
   "metadata": {
    "tags": []
   },
   "outputs": [
    {
     "name": "stdin",
     "output_type": "stream",
     "text": [
      "enter first number 1\n",
      "enter second number 10\n"
     ]
    },
    {
     "name": "stdout",
     "output_type": "stream",
     "text": [
      "2\n",
      "3\n",
      "5\n",
      "7\n"
     ]
    }
   ],
   "source": [
    "#Write a program to find prime number with in a range using function.\n",
    "\n",
    "def prime(n):\n",
    "    c=0\n",
    "    for i in range(1,n+1):\n",
    "        if(n % i==0):\n",
    "            c=c+1\n",
    "    if (c==2):\n",
    "        print (n)\n",
    "\n",
    "start= int(input(\"enter first number\"))\n",
    "end= int(input(\"enter second number\"))\n",
    "for k in range(start,end+1):\n",
    "    prime(k)\n",
    "\n",
    "\n",
    "        "
   ]
  },
  {
   "cell_type": "code",
   "execution_count": 5,
   "id": "edb82c09-9b37-4fb0-98d7-00cba8258ed0",
   "metadata": {},
   "outputs": [
    {
     "name": "stdin",
     "output_type": "stream",
     "text": [
      "enter a number 5\n"
     ]
    },
    {
     "name": "stdout",
     "output_type": "stream",
     "text": [
      "0\n",
      "1\n",
      "1\n",
      "2\n",
      "3\n"
     ]
    }
   ],
   "source": [
    "#Write a program to generate the Fibonacci sequence of a given number.\n",
    "n= int (input(\"enter a number\"))\n",
    "a=0\n",
    "b=1\n",
    "print (a)\n",
    "print (b)\n",
    "for i in range (1,n-1):\n",
    "    c=a+b\n",
    "    a=b\n",
    "    b=c\n",
    "    print (c)"
   ]
  },
  {
   "cell_type": "code",
   "execution_count": 12,
   "id": "7dc6ef6d-10bd-4b2e-94e3-66472c79caec",
   "metadata": {
    "tags": []
   },
   "outputs": [
    {
     "name": "stdin",
     "output_type": "stream",
     "text": [
      "enter number 545\n"
     ]
    },
    {
     "name": "stdout",
     "output_type": "stream",
     "text": [
      "palindrome\n"
     ]
    }
   ],
   "source": [
    "#Write a program to check palindrome.\n",
    "n=int (input(\"enter number\"))\n",
    "a=n\n",
    "rev=0\n",
    "while(n>0):\n",
    "    i=n%10\n",
    "    rev=rev*10+i\n",
    "    n=n//10\n",
    "if(a==rev):\n",
    "    print (\"palindrome\")\n",
    "else:\n",
    "    print(\"not palindrome\")\n",
    "    "
   ]
  },
  {
   "cell_type": "code",
   "execution_count": 23,
   "id": "9a2ceb2a-091a-44c9-b293-2844529d3fdb",
   "metadata": {
    "jp-MarkdownHeadingCollapsed": true,
    "tags": []
   },
   "outputs": [
    {
     "name": "stdout",
     "output_type": "stream",
     "text": [
      "Guess the number between 1 to 100\n"
     ]
    },
    {
     "name": "stdin",
     "output_type": "stream",
     "text": [
      "enter a number 60\n"
     ]
    },
    {
     "name": "stdout",
     "output_type": "stream",
     "text": [
      "enter greater number\n"
     ]
    },
    {
     "name": "stdin",
     "output_type": "stream",
     "text": [
      "enter a number 70\n"
     ]
    },
    {
     "name": "stdout",
     "output_type": "stream",
     "text": [
      "enter greater number\n"
     ]
    },
    {
     "name": "stdin",
     "output_type": "stream",
     "text": [
      "enter a number 80\n"
     ]
    },
    {
     "name": "stdout",
     "output_type": "stream",
     "text": [
      "enter greater number\n"
     ]
    },
    {
     "name": "stdin",
     "output_type": "stream",
     "text": [
      "enter a number 90\n"
     ]
    },
    {
     "name": "stdout",
     "output_type": "stream",
     "text": [
      "enter greater number\n"
     ]
    },
    {
     "name": "stdin",
     "output_type": "stream",
     "text": [
      "enter a number 99\n"
     ]
    },
    {
     "name": "stdout",
     "output_type": "stream",
     "text": [
      "enter smaller number\n"
     ]
    },
    {
     "name": "stdin",
     "output_type": "stream",
     "text": [
      "enter a number 98\n"
     ]
    },
    {
     "name": "stdout",
     "output_type": "stream",
     "text": [
      "enter smaller number\n"
     ]
    },
    {
     "name": "stdin",
     "output_type": "stream",
     "text": [
      "enter a number 97\n"
     ]
    },
    {
     "name": "stdout",
     "output_type": "stream",
     "text": [
      "enter smaller number\n"
     ]
    },
    {
     "name": "stdin",
     "output_type": "stream",
     "text": [
      "enter a number 95\n"
     ]
    },
    {
     "name": "stdout",
     "output_type": "stream",
     "text": [
      "enter smaller number\n"
     ]
    },
    {
     "name": "stdin",
     "output_type": "stream",
     "text": [
      "enter a number 94\n"
     ]
    },
    {
     "name": "stdout",
     "output_type": "stream",
     "text": [
      "enter smaller number\n"
     ]
    },
    {
     "name": "stdin",
     "output_type": "stream",
     "text": [
      "enter a number 91\n"
     ]
    },
    {
     "name": "stdout",
     "output_type": "stream",
     "text": [
      "enter greater number\n"
     ]
    },
    {
     "name": "stdin",
     "output_type": "stream",
     "text": [
      "enter a number 92\n"
     ]
    },
    {
     "name": "stdout",
     "output_type": "stream",
     "text": [
      "enter greater number\n"
     ]
    },
    {
     "name": "stdin",
     "output_type": "stream",
     "text": [
      "enter a number 93\n"
     ]
    },
    {
     "name": "stdout",
     "output_type": "stream",
     "text": [
      "you guessed correct number\n"
     ]
    }
   ],
   "source": [
    "#Create a number guessing game. Where you have to generate a random number in between 1 to 100 \n",
    "#and user have to prompt a number for guess. \n",
    "#If its high or low number let the user know and guide them through the process to guess correct number.\n",
    "import random\n",
    "answer=random.randint(1,100)\n",
    "print(\"Guess the number between 1 to 100\")\n",
    "while(n!=answer):\n",
    "    n=int(input(\"enter a number\"))\n",
    "    if(n>100 or n<1):\n",
    "        print(\"invalid number\")\n",
    "    elif (n>answer):\n",
    "        print(\"enter smaller number\")\n",
    "    elif (n<answer):\n",
    "        print(\"enter greater number\")\n",
    "    else:\n",
    "        print(\"you guessed correct number\")\n"
   ]
  },
  {
   "cell_type": "code",
   "execution_count": null,
   "id": "94c48d2d-f91d-472e-8950-f75414e43acd",
   "metadata": {},
   "outputs": [],
   "source": []
  },
  {
   "cell_type": "code",
   "execution_count": null,
   "id": "ba645275-99ed-494e-8c4b-796a693cdd23",
   "metadata": {},
   "outputs": [],
   "source": []
  }
 ],
 "metadata": {
  "kernelspec": {
   "display_name": "Python 3 (ipykernel)",
   "language": "python",
   "name": "python3"
  },
  "language_info": {
   "codemirror_mode": {
    "name": "ipython",
    "version": 3
   },
   "file_extension": ".py",
   "mimetype": "text/x-python",
   "name": "python",
   "nbconvert_exporter": "python",
   "pygments_lexer": "ipython3",
   "version": "3.11.5"
  }
 },
 "nbformat": 4,
 "nbformat_minor": 5
}
